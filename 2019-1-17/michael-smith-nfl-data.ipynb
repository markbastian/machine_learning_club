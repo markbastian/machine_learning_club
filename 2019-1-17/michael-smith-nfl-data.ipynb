{
 "cells": [
  {
   "cell_type": "code",
   "execution_count": 2,
   "metadata": {},
   "outputs": [],
   "source": [
    "import pandas as pd\n",
    "from sklearn.ensemble import RandomForestClassifier, RandomForestRegressor\n",
    "import numpy as np\n",
    "from sklearn.model_selection import train_test_split\n",
    "from sklearn import metrics"
   ]
  },
  {
   "cell_type": "code",
   "execution_count": 3,
   "metadata": {},
   "outputs": [],
   "source": [
    "spread = pd.read_csv('../Data/spreadspoke_scores.csv')\n",
    "#stadiums = pd.read_csv('https://raw.githubusercontent.com/mauzeyj/machine_learning_club/master/Data/nfl_stadiums.csv')\n",
    "teams = pd.read_csv('../Data/nfl_teams.csv')\n",
    "teams = teams.set_index('team_name')"
   ]
  },
  {
   "cell_type": "code",
   "execution_count": 4,
   "metadata": {},
   "outputs": [],
   "source": [
    "joined = spread.join(teams, on='team_home').join(teams, on='team_away', lsuffix='_home', rsuffix='_away')\n",
    "\n"
   ]
  },
  {
   "cell_type": "code",
   "execution_count": 5,
   "metadata": {},
   "outputs": [],
   "source": [
    "joined['team_division_away_season'] = np.where(joined['schedule_season'] < 2002, joined['team_division_pre2002_away'], joined['team_division_away'])\n",
    "joined['team_conference_away_season'] = np.where(joined['schedule_season'] < 2002, joined['team_conference_pre2002_away'], joined['team_conference_away'])\n",
    "joined['team_division_home_season'] = np.where(joined['schedule_season'] < 2002, joined['team_division_pre2002_home'], joined['team_division_home'])\n",
    "joined['team_conference_home_season'] = np.where(joined['schedule_season'] < 2002, joined['team_conference_pre2002_home'], joined['team_conference_home'])\n"
   ]
  },
  {
   "cell_type": "code",
   "execution_count": 6,
   "metadata": {},
   "outputs": [],
   "source": [
    "joined['home_spread_actual'] = joined['score_away']-joined['score_home']\n",
    "joined['home_wins_actual'] = joined['home_spread_actual'] < 0\n",
    "\n",
    "def home_spread(game):\n",
    "    \n",
    "    if game['team_favorite_id'] == 'NaN': \n",
    "        return None\n",
    "    elif game['team_favorite_id'] == game['team_id_home']:\n",
    "        return game['spread_favorite']\n",
    "    else:\n",
    "        return game['spread_favorite'] * -1\n",
    "    \n",
    "joined['home_spread'] = joined.apply(home_spread, axis=1)"
   ]
  },
  {
   "cell_type": "code",
   "execution_count": 7,
   "metadata": {},
   "outputs": [],
   "source": [
    "joined['over_under_line_actual'] = joined['score_home']+joined['score_away']"
   ]
  },
  {
   "cell_type": "code",
   "execution_count": 91,
   "metadata": {},
   "outputs": [],
   "source": [
    "cleaned = joined[joined.over_under_line != ' '].dropna(subset=['over_under_line'])\n",
    "cleaned['over_under_line'] = cleaned['over_under_line'].astype('float')\n",
    "cleaned['schedule_week'] = cleaned['schedule_week'].replace('Wildcard', 19).replace('WildCard', 19).replace('Division', 20).replace('Conference', 21).replace('Superbowl', 22).replace('SuperBowl', 22).astype('int')\n"
   ]
  },
  {
   "cell_type": "code",
   "execution_count": 92,
   "metadata": {},
   "outputs": [],
   "source": [
    "features = ['schedule_season', 'schedule_week', 'schedule_playoff', 'team_home',\n",
    "       'team_away', 'over_under_line', 'stadium', 'stadium_neutral',\n",
    "       'weather_temperature', 'weather_wind_mph', 'weather_humidity',\n",
    "       'weather_detail', 'team_division_away_season',\n",
    "       'team_conference_away_season', 'team_division_home_season',\n",
    "       'team_conference_home_season', 'home_spread_actual', 'home_wins_actual',\n",
    "       'home_spread', 'over_under_line_actual']\n",
    "not_important = ['stadium','weather_humidity']\n",
    "features = cleaned[features].drop(columns=not_important)\n",
    "features = pd.get_dummies(features, dummy_na=True)\n",
    "features = features.dropna()"
   ]
  },
  {
   "cell_type": "code",
   "execution_count": 110,
   "metadata": {},
   "outputs": [
    {
     "name": "stdout",
     "output_type": "stream",
     "text": [
      "Accuracy: 0.628383067314365\n"
     ]
    },
    {
     "data": {
      "text/plain": [
       "home_spread                              0.175868\n",
       "schedule_season                          0.097259\n",
       "over_under_line                          0.095099\n",
       "schedule_week                            0.085644\n",
       "weather_temperature                      0.077967\n",
       "weather_wind_mph                         0.066529\n",
       "team_division_away_season_AFC East       0.007975\n",
       "weather_detail_nan                       0.007025\n",
       "team_division_away_season_AFC West       0.006849\n",
       "team_division_away_season_NFC East       0.006825\n",
       "team_division_away_season_NFC West       0.006700\n",
       "team_conference_away_season_AFC          0.006680\n",
       "team_division_home_season_AFC East       0.006632\n",
       "team_conference_away_season_NFC          0.006544\n",
       "team_division_home_season_NFC West       0.006390\n",
       "team_division_home_season_AFC West       0.006341\n",
       "team_division_home_season_NFC East       0.005838\n",
       "weather_detail_DOME                      0.005487\n",
       "team_division_home_season_NFC Central    0.005412\n",
       "team_division_away_season_NFC Central    0.005390\n",
       "team_division_away_season_AFC Central    0.005236\n",
       "team_conference_home_season_AFC          0.005136\n",
       "team_away_Pittsburgh Steelers            0.005067\n",
       "team_conference_home_season_NFC          0.005057\n",
       "team_division_home_season_AFC Central    0.004771\n",
       "team_away_Seattle Seahawks               0.004767\n",
       "team_away_Buffalo Bills                  0.004697\n",
       "team_away_Miami Dolphins                 0.004661\n",
       "team_away_Atlanta Falcons                0.004651\n",
       "team_away_Minnesota Vikings              0.004641\n",
       "                                           ...   \n",
       "team_away_St. Louis Rams                 0.002024\n",
       "team_home_St. Louis Rams                 0.002000\n",
       "schedule_playoff                         0.001945\n",
       "team_home_Baltimore Colts                0.001940\n",
       "weather_detail_Rain                      0.001866\n",
       "team_division_home_season_nan            0.001705\n",
       "team_division_away_season_nan            0.001630\n",
       "team_home_Los Angeles Raiders            0.001564\n",
       "team_home_Houston Oilers                 0.001423\n",
       "team_home_Houston Texans                 0.001411\n",
       "team_home_St. Louis Cardinals            0.001375\n",
       "team_home_Phoenix Cardinals              0.001309\n",
       "team_away_Baltimore Colts                0.001185\n",
       "team_away_St. Louis Cardinals            0.001092\n",
       "team_away_Phoenix Cardinals              0.001017\n",
       "stadium_neutral                          0.000977\n",
       "weather_detail_Fog                       0.000649\n",
       "team_home_Tennessee Oilers               0.000613\n",
       "weather_detail_DOME (Open Roof)          0.000598\n",
       "team_away_Tennessee Oilers               0.000500\n",
       "weather_detail_Rain | Fog                0.000448\n",
       "team_away_Los Angeles Chargers           0.000362\n",
       "team_home_Los Angeles Chargers           0.000333\n",
       "weather_detail_Snow                      0.000213\n",
       "weather_detail_Snow | Fog                0.000184\n",
       "weather_detail_Snow | Freezing Rain      0.000008\n",
       "team_away_nan                            0.000000\n",
       "team_conference_away_season_nan          0.000000\n",
       "team_home_nan                            0.000000\n",
       "team_conference_home_season_nan          0.000000\n",
       "Length: 127, dtype: float64"
      ]
     },
     "execution_count": 110,
     "metadata": {},
     "output_type": "execute_result"
    }
   ],
   "source": [
    "X = features.drop(columns=['over_under_line_actual', 'home_spread_actual', 'home_wins_actual'])\n",
    "y = features['home_wins_actual']\n",
    "\n",
    "# Split dataset into training set and test set\n",
    "X_train, X_test, y_train, y_test = train_test_split(X, y, test_size=0.3)\n",
    "\n",
    "\n",
    "clf = RandomForestClassifier(n_estimators=100)\n",
    "clf.fit(X_train, y_train)\n",
    "y_pred=clf.predict(X_test)\n",
    "print(\"Accuracy:\",metrics.accuracy_score(y_test, y_pred))\n",
    "\n",
    "feature_imp = pd.Series(clf.feature_importances_,index=X.columns).sort_values(ascending=False)\n",
    "feature_imp"
   ]
  },
  {
   "cell_type": "code",
   "execution_count": 111,
   "metadata": {},
   "outputs": [
    {
     "name": "stdout",
     "output_type": "stream",
     "text": [
      "Accuracy: 0.1366718415864816\n"
     ]
    },
    {
     "data": {
      "text/plain": [
       "home_spread                            3.096473e-01\n",
       "over_under_line                        7.931254e-02\n",
       "weather_temperature                    7.296029e-02\n",
       "schedule_season                        7.059930e-02\n",
       "schedule_week                          6.216671e-02\n",
       "weather_wind_mph                       4.755265e-02\n",
       "team_home_Kansas City Chiefs           6.671670e-03\n",
       "team_division_away_season_NFC West     6.384410e-03\n",
       "team_home_Seattle Seahawks             5.930462e-03\n",
       "team_away_San Francisco 49ers          5.845905e-03\n",
       "team_away_Green Bay Packers            5.604627e-03\n",
       "team_division_home_season_NFC West     5.490389e-03\n",
       "team_away_New England Patriots         5.340588e-03\n",
       "team_away_New Orleans Saints           5.302914e-03\n",
       "team_away_Chicago Bears                5.161509e-03\n",
       "team_division_away_season_AFC West     5.130533e-03\n",
       "team_division_home_season_AFC West     4.908231e-03\n",
       "team_home_San Francisco 49ers          4.864344e-03\n",
       "team_division_away_season_AFC East     4.775646e-03\n",
       "team_home_New Orleans Saints           4.741941e-03\n",
       "team_home_Dallas Cowboys               4.692369e-03\n",
       "team_away_Arizona Cardinals            4.609267e-03\n",
       "team_home_Pittsburgh Steelers          4.528191e-03\n",
       "team_division_away_season_NFC East     4.509117e-03\n",
       "team_away_Philadelphia Eagles          4.507922e-03\n",
       "team_away_Atlanta Falcons              4.420887e-03\n",
       "team_away_Indianapolis Colts           4.344380e-03\n",
       "team_home_New England Patriots         4.341895e-03\n",
       "team_division_home_season_AFC East     4.291725e-03\n",
       "team_away_Denver Broncos               4.276597e-03\n",
       "                                           ...     \n",
       "team_away_Baltimore Ravens             1.916957e-03\n",
       "weather_detail_DOME                    1.863851e-03\n",
       "team_away_Houston Texans               1.796871e-03\n",
       "team_away_St. Louis Cardinals          1.741640e-03\n",
       "team_home_St. Louis Rams               1.683725e-03\n",
       "team_home_Los Angeles Raiders          1.513424e-03\n",
       "team_home_Tennessee Titans             1.414977e-03\n",
       "stadium_neutral                        1.359911e-03\n",
       "team_home_Baltimore Colts              1.344116e-03\n",
       "team_home_Phoenix Cardinals            1.247828e-03\n",
       "team_home_Houston Oilers               1.142528e-03\n",
       "team_division_home_season_nan          1.137191e-03\n",
       "team_away_Baltimore Colts              1.050262e-03\n",
       "team_away_Phoenix Cardinals            1.010452e-03\n",
       "weather_detail_Fog                     1.003697e-03\n",
       "team_away_Tennessee Oilers             9.816187e-04\n",
       "team_home_Houston Texans               9.781913e-04\n",
       "team_home_Tennessee Oilers             9.363812e-04\n",
       "schedule_playoff                       8.908836e-04\n",
       "team_home_St. Louis Cardinals          8.614173e-04\n",
       "weather_detail_DOME (Open Roof)        4.948364e-04\n",
       "team_home_Los Angeles Chargers         4.254892e-04\n",
       "weather_detail_Snow                    2.013047e-04\n",
       "team_away_Los Angeles Chargers         1.446745e-04\n",
       "weather_detail_Snow | Fog              1.514144e-05\n",
       "weather_detail_Snow | Freezing Rain    5.731983e-08\n",
       "team_away_nan                          0.000000e+00\n",
       "team_conference_away_season_nan        0.000000e+00\n",
       "team_home_nan                          0.000000e+00\n",
       "team_conference_home_season_nan        0.000000e+00\n",
       "Length: 127, dtype: float64"
      ]
     },
     "execution_count": 111,
     "metadata": {},
     "output_type": "execute_result"
    }
   ],
   "source": [
    "X = features.drop(columns=['over_under_line_actual', 'home_spread_actual', 'home_wins_actual'])\n",
    "y = features['home_spread_actual']\n",
    "\n",
    "# Split dataset into training set and test set\n",
    "X_train, X_test, y_train, y_test = train_test_split(X, y, test_size=0.3)\n",
    "regr = RandomForestRegressor(max_depth=15, random_state=0,n_estimators=100)\n",
    "regr.fit(X_train, y_train)\n",
    "y_pred=regr.predict(X_test)\n",
    "print(\"Accuracy:\",metrics.r2_score(y_test, y_pred, multioutput='variance_weighted'))\n",
    "feature_imp = pd.Series(regr.feature_importances_,index=X.columns).sort_values(ascending=False)\n",
    "feature_imp"
   ]
  },
  {
   "cell_type": "code",
   "execution_count": null,
   "metadata": {},
   "outputs": [],
   "source": []
  }
 ],
 "metadata": {
  "kernelspec": {
   "display_name": "Python 3",
   "language": "python",
   "name": "python3"
  },
  "language_info": {
   "codemirror_mode": {
    "name": "ipython",
    "version": 3
   },
   "file_extension": ".py",
   "mimetype": "text/x-python",
   "name": "python",
   "nbconvert_exporter": "python",
   "pygments_lexer": "ipython3",
   "version": "3.7.2"
  }
 },
 "nbformat": 4,
 "nbformat_minor": 2
}
