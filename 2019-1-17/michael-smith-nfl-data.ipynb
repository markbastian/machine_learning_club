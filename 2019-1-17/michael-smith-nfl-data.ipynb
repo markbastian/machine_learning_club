{
 "cells": [
  {
   "cell_type": "code",
   "execution_count": 1,
   "metadata": {},
   "outputs": [],
   "source": [
    "import pandas as pd\n",
    "import numpy as np\n",
    "from sklearn.ensemble import RandomForestClassifier, RandomForestRegressor\n",
    "from sklearn.naive_bayes import GaussianNB\n",
    "from sklearn.model_selection import train_test_split\n",
    "from sklearn import metrics"
   ]
  },
  {
   "cell_type": "code",
   "execution_count": 2,
   "metadata": {},
   "outputs": [],
   "source": [
    "spread = pd.read_csv('../Data/spreadspoke_scores.csv')\n",
    "#stadiums = pd.read_csv('https://raw.githubusercontent.com/mauzeyj/machine_learning_club/master/Data/nfl_stadiums.csv')\n",
    "teams = pd.read_csv('../Data/nfl_teams.csv')\n",
    "teams = teams.set_index('team_name')"
   ]
  },
  {
   "cell_type": "markdown",
   "metadata": {},
   "source": [
    "Aggregate datasets, add new data points\n",
    "----"
   ]
  },
  {
   "cell_type": "code",
   "execution_count": 3,
   "metadata": {},
   "outputs": [],
   "source": [
    "joined = spread.join(teams, on='team_home')\\\n",
    "                .join(teams, on='team_away', lsuffix='_home', rsuffix='_away')"
   ]
  },
  {
   "cell_type": "code",
   "execution_count": 4,
   "metadata": {},
   "outputs": [],
   "source": [
    "joined['team_division_away_season'] = np.where(joined['schedule_season'] < 2002, joined['team_division_pre2002_away'], joined['team_division_away'])\n",
    "joined['team_conference_away_season'] = np.where(joined['schedule_season'] < 2002, joined['team_conference_pre2002_away'], joined['team_conference_away'])\n",
    "joined['team_division_home_season'] = np.where(joined['schedule_season'] < 2002, joined['team_division_pre2002_home'], joined['team_division_home'])\n",
    "joined['team_conference_home_season'] = np.where(joined['schedule_season'] < 2002, joined['team_conference_pre2002_home'], joined['team_conference_home'])"
   ]
  },
  {
   "cell_type": "code",
   "execution_count": 5,
   "metadata": {},
   "outputs": [],
   "source": [
    "joined['home_spread_actual'] = joined['score_away']-joined['score_home']\n",
    "joined['home_wins_actual'] = joined['home_spread_actual'] < 0\n",
    "\n",
    "def home_spread(game):\n",
    "    \n",
    "    if game['team_favorite_id'] == 'NaN': \n",
    "        return None\n",
    "    elif game['team_favorite_id'] == game['team_id_home']:\n",
    "        return game['spread_favorite']\n",
    "    else:\n",
    "        return game['spread_favorite'] * -1\n",
    "    \n",
    "joined['home_spread'] = joined.apply(home_spread, axis=1)"
   ]
  },
  {
   "cell_type": "code",
   "execution_count": 6,
   "metadata": {},
   "outputs": [],
   "source": [
    "joined['over_under_line_actual'] = joined['score_home']+joined['score_away']"
   ]
  },
  {
   "cell_type": "code",
   "execution_count": 7,
   "metadata": {},
   "outputs": [],
   "source": [
    "#treat over_under and schedule_week as continuous values\n",
    "cleaned = joined[joined.over_under_line != ' '].dropna(subset=['over_under_line'])\n",
    "cleaned['over_under_line'] = cleaned['over_under_line'].astype('float')\n",
    "cleaned['schedule_week'] = cleaned['schedule_week']\\\n",
    "                    .replace('Wildcard', 19).replace('WildCard', 19)\\\n",
    "                    .replace('Division', 20)\\\n",
    "                    .replace('Conference', 21)\\\n",
    "                    .replace('Superbowl', 22).replace('SuperBowl', 22)\\\n",
    "                    .astype('int')\n"
   ]
  },
  {
   "cell_type": "markdown",
   "metadata": {},
   "source": [
    "Prep dataset for ML\n",
    "---"
   ]
  },
  {
   "cell_type": "code",
   "execution_count": 8,
   "metadata": {},
   "outputs": [],
   "source": [
    "features = ['schedule_season', 'schedule_week', 'schedule_playoff', 'team_home',\n",
    "       'team_away', 'over_under_line', 'stadium', 'stadium_neutral',\n",
    "       'weather_temperature', 'weather_wind_mph', 'weather_humidity',\n",
    "       'weather_detail', 'team_division_away_season',\n",
    "       'team_conference_away_season', 'team_division_home_season',\n",
    "       'team_conference_home_season', 'home_spread_actual', 'home_wins_actual',\n",
    "       'home_spread', 'over_under_line_actual']\n",
    "not_important = ['stadium','weather_humidity']\n",
    "features = cleaned[features].drop(columns=not_important)\n",
    "features = pd.get_dummies(features, dummy_na=True)\n",
    "features = features.dropna()\n",
    "\n"
   ]
  },
  {
   "cell_type": "markdown",
   "metadata": {},
   "source": [
    "Classifier\n",
    "------"
   ]
  },
  {
   "cell_type": "code",
   "execution_count": 13,
   "metadata": {},
   "outputs": [],
   "source": [
    "def runClassifier(c, X, y):\n",
    "    clf, name = c\n",
    "    # Split dataset into training set and test set\n",
    "    X_train, X_test, y_train, y_test = train_test_split(X, y, test_size=0.3)\n",
    "    clf.fit(X_train, y_train)\n",
    "    y_pred=clf.predict(X_test)\n",
    "    \n",
    "    \n",
    "    print(\"=======================\")\n",
    "    print(name)\n",
    "    print(\"=======================\")\n",
    "    print(\"Accuracy:\",metrics.accuracy_score(y_test, y_pred))\n",
    "\n",
    "    if hasattr(clf, 'feature_importances_'):\n",
    "        feature_imp = pd.Series(clf.feature_importances_,index=X.columns).sort_values(ascending=False)\n",
    "        print(\"Features:\\n\", feature_imp[:10])"
   ]
  },
  {
   "cell_type": "code",
   "execution_count": 14,
   "metadata": {},
   "outputs": [
    {
     "name": "stdout",
     "output_type": "stream",
     "text": [
      "=======================\n",
      "Random Forest\n",
      "=======================\n",
      "Accuracy: 0.6415683553088133\n",
      "Features:\n",
      " home_spread                           0.170822\n",
      "schedule_season                       0.094685\n",
      "over_under_line                       0.094332\n",
      "schedule_week                         0.084609\n",
      "weather_temperature                   0.077250\n",
      "weather_wind_mph                      0.063245\n",
      "team_division_away_season_AFC East    0.007896\n",
      "team_conference_away_season_NFC       0.007395\n",
      "team_conference_away_season_AFC       0.007358\n",
      "team_division_away_season_NFC West    0.007093\n",
      "dtype: float64\n",
      "=======================\n",
      "Naive Bayes\n",
      "=======================\n",
      "Accuracy: 0.5392088827203331\n"
     ]
    }
   ],
   "source": [
    "X = features.drop(columns=['over_under_line_actual', 'home_spread_actual', 'home_wins_actual'])\n",
    "y = features['home_wins_actual']\n",
    "\n",
    "classifiers = [(RandomForestClassifier(n_estimators=100), \"Random Forest\"),\n",
    "               (GaussianNB(), \"Naive Bayes\")]\n",
    "\n",
    "for c in classifiers:\n",
    "    runClassifier(c, X, y)\n"
   ]
  },
  {
   "cell_type": "markdown",
   "metadata": {},
   "source": [
    "Regressor\n",
    "------"
   ]
  },
  {
   "cell_type": "code",
   "execution_count": 15,
   "metadata": {},
   "outputs": [],
   "source": [
    "def runRegressor(X, y):\n",
    "    # Split dataset into training set and test set\n",
    "    X_train, X_test, y_train, y_test = train_test_split(X, y, test_size=0.3)\n",
    "    regr = RandomForestRegressor(max_depth=8, random_state=0,n_estimators=100)\n",
    "    regr.fit(X_train, y_train)\n",
    "    y_pred=regr.predict(X_test)\n",
    "    \n",
    "    print(\"r2:\",metrics.r2_score(y_test, y_pred))\n",
    "    feature_imp = pd.Series(regr.feature_importances_,index=X.columns).sort_values(ascending=False)\n",
    "    print(\"features:\\n\", feature_imp[:10])"
   ]
  },
  {
   "cell_type": "code",
   "execution_count": 16,
   "metadata": {},
   "outputs": [
    {
     "name": "stdout",
     "output_type": "stream",
     "text": [
      "r2: 0.14809131556249244\n",
      "features:\n",
      " home_spread                      0.580275\n",
      "over_under_line                  0.052191\n",
      "weather_temperature              0.047006\n",
      "schedule_season                  0.041404\n",
      "schedule_week                    0.035850\n",
      "weather_wind_mph                 0.029098\n",
      "team_home_Kansas City Chiefs     0.008262\n",
      "team_away_New Orleans Saints     0.005481\n",
      "weather_detail_Rain | Fog        0.004385\n",
      "team_home_Pittsburgh Steelers    0.003962\n",
      "dtype: float64\n"
     ]
    }
   ],
   "source": [
    "X = features.drop(columns=['over_under_line_actual', 'home_spread_actual', 'home_wins_actual'])\n",
    "y = features['home_spread_actual']\n",
    "runRegressor(X, y)"
   ]
  },
  {
   "cell_type": "code",
   "execution_count": 17,
   "metadata": {},
   "outputs": [
    {
     "name": "stdout",
     "output_type": "stream",
     "text": [
      "r2: 0.07592947380264825\n",
      "features:\n",
      " over_under_line                 0.408695\n",
      "weather_temperature             0.066390\n",
      "weather_wind_mph                0.064372\n",
      "home_spread                     0.064022\n",
      "schedule_season                 0.052622\n",
      "schedule_week                   0.049474\n",
      "team_away_Kansas City Chiefs    0.011344\n",
      "team_away_Indianapolis Colts    0.006619\n",
      "team_away_Green Bay Packers     0.006489\n",
      "team_home_Cincinnati Bengals    0.006267\n",
      "dtype: float64\n"
     ]
    }
   ],
   "source": [
    "X = features.drop(columns=['over_under_line_actual', 'home_spread_actual', 'home_wins_actual'])\n",
    "y = features['over_under_line_actual']\n",
    "runRegressor(X, y)"
   ]
  },
  {
   "cell_type": "code",
   "execution_count": null,
   "metadata": {},
   "outputs": [],
   "source": []
  }
 ],
 "metadata": {
  "kernelspec": {
   "display_name": "Python 3",
   "language": "python",
   "name": "python3"
  },
  "language_info": {
   "codemirror_mode": {
    "name": "ipython",
    "version": 3
   },
   "file_extension": ".py",
   "mimetype": "text/x-python",
   "name": "python",
   "nbconvert_exporter": "python",
   "pygments_lexer": "ipython3",
   "version": "3.7.2"
  }
 },
 "nbformat": 4,
 "nbformat_minor": 2
}
